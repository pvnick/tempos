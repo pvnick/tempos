{
 "metadata": {
  "name": ""
 },
 "nbformat": 3,
 "nbformat_minor": 0,
 "worksheets": [
  {
   "cells": [
    {
     "cell_type": "code",
     "collapsed": false,
     "input": [
      "%pylab --no-import-all inline\n",
      "%matplotlib inline\n",
      "\n",
      "import scipy as sc\n",
      "import scipy.stats\n",
      "import numpy as np\n",
      "import pandas as pd\n",
      "import re\n",
      "import os\n",
      "from fractions import Fraction\n",
      "import math\n",
      "import string\n",
      "import sympy\n",
      "from IPython.display import display, Image, HTML\n",
      "from sympy.physics.units import *\n",
      "from xml.sax.saxutils import escape, unescape"
     ],
     "language": "python",
     "metadata": {},
     "outputs": [
      {
       "output_type": "stream",
       "stream": "stdout",
       "text": [
        "Populating the interactive namespace from numpy and matplotlib\n"
       ]
      }
     ],
     "prompt_number": 136
    },
    {
     "cell_type": "code",
     "collapsed": false,
     "input": [
      "def render_math_image(latex):\n",
      "    print(latex)\n",
      "    processed_latex = latex\n",
      "    #escape spaces, unless they are part of a left/right command\n",
      "    processed_latex = re.sub(r\"(?<!(.\\\\left|\\\\right)) \", r\"{\\ }\", processed_latex)\n",
      "    #the following is needed because sympy replaces multiple underscores with a space because it thinks i'm indexing\n",
      "    #if i wanted a space i would have written a space, damnit\n",
      "    #same thing with superscript carrot\n",
      "    processed_latex = string.replace(processed_latex, r\"\\sub\", r\"_\")\n",
      "    processed_latex = string.replace(processed_latex, r\"\\sup\", r\"^\")\n",
      "    #use 10x for scientific notation instead of e\n",
      "    #support for confidence interval notation for the base of the exponent\n",
      "    #support negative/positive exponents (keep the negative sign, disregard the positive sign)\n",
      "    #also strip out the leading zeros from the exponent\n",
      "    processed_latex = re.sub(r\"([\\d\\)]+)e\\+?(\\-?)0*?(\\d+)\", r\"\\1\\\\times{10^{\\2\\3}}\", processed_latex)\n",
      "    print(processed_latex)\n",
      "    !rm -f /tmp/math.*\n",
      "    f = open('/tmp/math.tex','w')\n",
      "    f.write(r\"\"\"\n",
      "        \\documentclass{article}\n",
      "        \\usepackage[active,tightpage]{preview}\n",
      "        \\usepackage{varwidth}\n",
      "        \\usepackage{graphicx}\n",
      "        \\begin{document}\n",
      "            \\begin{preview}$\"\"\" + \\\n",
      "                        processed_latex + \\\n",
      "                    r\"\"\"$\n",
      "            \\end{preview}\n",
      "        \\end{document}\"\"\")\n",
      "    f.close()\n",
      "    !pdflatex -halt-on-error -output-directory /tmp /tmp/math.tex > /dev/null\n",
      "    !convert -density 150 /tmp/math.pdf -quality 100 /tmp/math.png > /dev/null\n",
      "    display(Image(filename='/tmp/math.png', embed=True))\n",
      "    "
     ],
     "language": "python",
     "metadata": {},
     "outputs": [],
     "prompt_number": 134
    },
    {
     "cell_type": "code",
     "collapsed": false,
     "input": [
      "render_math_image(r\"\\sqrt{\\left (- \\frac{b\\sub{wavelength\\sub{1}}}{m\\sub{wavelength\\sub{1}}^{2}}\\right )^{2}\\lambda_{m\\sub{wavelength\\sub{1}}}^{2}+\\left (\\frac{1}{m\\sub{wavelength\\sub{1}}}\\right )^{2}\\lambda_{b\\sub{wavelength\\sub{1}}}^{2}}\")\n",
      "render_math_image(r\"\\lambda_{{pKa}^{'}\\sub{wavelength\\sub1{,est}}}=\\sqrt{\\left (\\frac{\\partial {{pKa}^{'}\\sub{wavelength\\sub1{,est}}}}{\\partial m\\sub{wavelength\\sub{1}}}\\right )^{2}\\lambda_{m\\sub{wavelength\\sub{1}}}^{2}+\\left (\\frac{\\partial {{pKa}^{'}\\sub{wavelength\\sub1{,est}}}}{\\partial b\\sub{wavelength\\sub{1}}}\\right )^{2}\\lambda_{b\\sub{wavelength\\sub{1}}}^{2}}\")\n",
      "render_math_image(r\"\\frac{b\\sub{wavelength\\sub{1}}}{m\\sub{wavelength\\sub{1}}}=\\frac{(-5.29)}{(0.817)}\")\n",
      "render_math_image(r\"{{pKa}^{'}\\sub{wavelength\\sub1{,est}}}=(-6.48\\pm{0.09})\")\n",
      "render_math_image(r\"=\\sqrt{\\left (- \\frac{b\\sub{wavelength\\sub{1}}}{m\\sub{wavelength\\sub{1}}^{2}}\\right )^{2}\\lambda_{m\\sub{wavelength\\sub{1}}}^{2}+\\left (\\frac{1}{m\\sub{wavelength\\sub{1}}}\\right )^{2}\\lambda_{b\\sub{wavelength\\sub{1}}}^{2}}\")"
     ],
     "language": "python",
     "metadata": {},
     "outputs": [
      {
       "output_type": "stream",
       "stream": "stdout",
       "text": [
        "\\sqrt{\\left (- \\frac{b\\sub{wavelength\\sub{1}}}{m\\sub{wavelength\\sub{1}}^{2}}\\right )^{2}\\lambda_{m\\sub{wavelength\\sub{1}}}^{2}+\\left (\\frac{1}{m\\sub{wavelength\\sub{1}}}\\right )^{2}\\lambda_{b\\sub{wavelength\\sub{1}}}^{2}}\n",
        "\\sqrt{\\left (-{\\ }\\frac{b_{wavelength_{1}}}{m_{wavelength_{1}}^{2}}\\right )^{2}\\lambda_{m_{wavelength_{1}}}^{2}+\\left (\\frac{1}{m_{wavelength_{1}}}\\right )^{2}\\lambda_{b_{wavelength_{1}}}^{2}}\n"
       ]
      },
      {
       "metadata": {},
       "output_type": "display_data",
       "png": "[encoded data removed]",
       "text": [
        "<IPython.core.display.Image at 0x4fe2c90>"
       ]
      },
      {
       "output_type": "stream",
       "stream": "stdout",
       "text": [
        "\\lambda_{{pKa}^{'}\\sub{wavelength\\sub1{,est}}}=\\sqrt{\\left (\\frac{\\partial {{pKa}^{'}\\sub{wavelength\\sub1{,est}}}}{\\partial m\\sub{wavelength\\sub{1}}}\\right )^{2}\\lambda_{m\\sub{wavelength\\sub{1}}}^{2}+\\left (\\frac{\\partial {{pKa}^{'}\\sub{wavelength\\sub1{,est}}}}{\\partial b\\sub{wavelength\\sub{1}}}\\right )^{2}\\lambda_{b\\sub{wavelength\\sub{1}}}^{2}}\n",
        "\\lambda_{{pKa}^{'}_{wavelength_1{,est}}}=\\sqrt{\\left (\\frac{\\partial{\\ }{{pKa}^{'}_{wavelength_1{,est}}}}{\\partial{\\ }m_{wavelength_{1}}}\\right )^{2}\\lambda_{m_{wavelength_{1}}}^{2}+\\left (\\frac{\\partial{\\ }{{pKa}^{'}_{wavelength_1{,est}}}}{\\partial{\\ }b_{wavelength_{1}}}\\right )^{2}\\lambda_{b_{wavelength_{1}}}^{2}}\n"
       ]
      },
      {
       "metadata": {},
       "output_type": "display_data",
       "png": "[encoded data removed]",
       "text": [
        "<IPython.core.display.Image at 0x4fe2d10>"
       ]
      },
      {
       "output_type": "stream",
       "stream": "stdout",
       "text": [
        "\\frac{b\\sub{wavelength\\sub{1}}}{m\\sub{wavelength\\sub{1}}}=\\frac{(-5.29)}{(0.817)}\n",
        "\\frac{b_{wavelength_{1}}}{m_{wavelength_{1}}}=\\frac{(-5.29)}{(0.817)}\n"
       ]
      },
      {
       "metadata": {},
       "output_type": "display_data",
       "png": "[encoded data removed]",
       "text": [
        "<IPython.core.display.Image at 0x4fe2c90>"
       ]
      },
      {
       "output_type": "stream",
       "stream": "stdout",
       "text": [
        "{{pKa}^{'}\\sub{wavelength\\sub1{,est}}}=(-6.48\\pm{0.09})\n",
        "{{pKa}^{'}_{wavelength_1{,est}}}=(-6.48\\pm{0.09})\n"
       ]
      },
      {
       "metadata": {},
       "output_type": "display_data",
       "png": "[encoded data removed]",
       "text": [
        "<IPython.core.display.Image at 0x4fe2d10>"
       ]
      },
      {
       "output_type": "stream",
       "stream": "stdout",
       "text": [
        "=\\sqrt{\\left (- \\frac{b\\sub{wavelength\\sub{1}}}{m\\sub{wavelength\\sub{1}}^{2}}\\right )^{2}\\lambda_{m\\sub{wavelength\\sub{1}}}^{2}+\\left (\\frac{1}{m\\sub{wavelength\\sub{1}}}\\right )^{2}\\lambda_{b\\sub{wavelength\\sub{1}}}^{2}}\n",
        "=\\sqrt{\\left (-{\\ }\\frac{b_{wavelength_{1}}}{m_{wavelength_{1}}^{2}}\\right )^{2}\\lambda_{m_{wavelength_{1}}}^{2}+\\left (\\frac{1}{m_{wavelength_{1}}}\\right )^{2}\\lambda_{b_{wavelength_{1}}}^{2}}\n"
       ]
      },
      {
       "metadata": {},
       "output_type": "display_data",
       "png": "[encoded data removed]",
       "text": [
        "<IPython.core.display.Image at 0x4fe2c90>"
       ]
      }
     ],
     "prompt_number": 137
    },
    {
     "cell_type": "markdown",
     "metadata": {},
     "source": [
      "$\n",
      "=\\sqrt{\\left (-{\\ }\\frac{b_{wavelength_{1}}}{m_{wavelength_{1}}^{2}}\\right )^{2}\\lambda_{m_{wavelength_{1}}}^{2}+\\left (\\frac{1}{m_{wavelength_{1}}}\\right )^{2}\\lambda_{b_{wavelength_{1}}}^{2}}\n",
      "$"
     ]
    },
    {
     "cell_type": "code",
     "collapsed": false,
     "input": [],
     "language": "python",
     "metadata": {},
     "outputs": []
    }
   ],
   "metadata": {}
  }
 ]
}