{
 "metadata": {
  "name": "",
  "signature": "sha256:ff05587ba6d5d8e073e8bcdea21d7eb259744fdd557a29d3211ac80072e85636"
 },
 "nbformat": 3,
 "nbformat_minor": 0,
 "worksheets": [
  {
   "cells": [
    {
     "cell_type": "code",
     "collapsed": false,
     "input": [
      "# file=\"painSAX.py\" Instituition=\"University of Florida, Intelligent Health Lab\"\n",
      "# THIS CODE AND INFORMATION ARE PROVIDED \"AS IS\" WITHOUT WARRANTY OF ANY\n",
      "# KIND, EITHER EXPRESSED OR IMPLIED, INCLUDING BUT NOT LIMITED TO THE\n",
      "# IMPLIED WARRANTIES OF MERCHANTABILITY AND/OR FITNESS FOR A\n",
      "# PARTICULAR PURPOSE.\n",
      "\n",
      "__author__ = \"Paul Nickerson, Parisa Rashidi, Patrick Tighe\"\n",
      "__copyright__ = \"Copyright 2014, The Pain SAX Project\"\n",
      "__credits__ = [\"Eamonn Keogh group (University of California - Riverside)\"]\n",
      "__license__ = \"GPL\"\n",
      "__version__ = \"1.0.1\"\n",
      "__maintainer__ = \"Paul Nickerson\"\n",
      "__email__ = \"pvnick@ufl.edu\"\n",
      "__status__ = \"Experimental\"\n",
      "\n",
      "import subprocess\n",
      "import shutil\n",
      "import sys\n",
      "import locale\n",
      "import scipy as sc\n",
      "import numpy as np\n",
      "import pandas as pd\n",
      "import os\n",
      "import math\n",
      "import string\n",
      "import re\n",
      "from pylab import plt\n",
      "from matplotlib.artist import setp\n",
      "from matplotlib import gridspec, patches, transforms, ticker\n",
      "from scipy.interpolate import interp1d\n",
      "from sklearn.metrics.pairwise import cosine_similarity\n",
      "from statsmodels.stats.diagnostic import kstest_normal as lilliefors"
     ],
     "language": "python",
     "metadata": {},
     "outputs": [],
     "prompt_number": 23
    },
    {
     "cell_type": "code",
     "collapsed": false,
     "input": [
      "plt.rcParams['mathtext.default'] = get_opt_val(\"driver.mathtext.fontstyle\")\n",
      "utils = PainDataUtils()\n",
      "utils.run()"
     ],
     "language": "python",
     "metadata": {},
     "outputs": [
      {
       "output_type": "stream",
       "stream": "stdout",
       "text": [
        "Executing routines associated with the pain score data set\n",
        "Generating histograms for record start times and saving to E:\\tempos\\figures\\pain_score_start_times.pdf\n",
        "Generating histograms for record start times which are less than the cutoff, 120, and saving to E:\\tempos\\figures\\pain_score_start_times_lte_2hours.pdf"
       ]
      },
      {
       "output_type": "stream",
       "stream": "stdout",
       "text": [
        "\n",
        "Lilliefors test for normality"
       ]
      },
      {
       "output_type": "stream",
       "stream": "stdout",
       "text": [
        "\n",
        "Null hypothesis is that all pain scores follow a Gaussian distribution\n",
        "P-value for rejecting the null hypothesis = 0.0\n",
        "Null hypothesis is that pain scores greater than 0 follow a Gaussian distribution\n",
        "P-value for rejecting the null hypothesis = 0.0\n",
        "Done"
       ]
      },
      {
       "output_type": "stream",
       "stream": "stdout",
       "text": [
        "\n"
       ]
      }
     ],
     "prompt_number": 55
    },
    {
     "cell_type": "code",
     "collapsed": false,
     "input": [
      "opts = {\n",
      "    \"driver.mathtext.fontstyle\": \"it\",\n",
      "    \"driver.time_series.owner_id_label\": \"PatientID\",\n",
      "    \"driver.time_series.x_label\": \"NRSTimeFromEndSurgery_mins\",\n",
      "    \"driver.time_series.y_label\": \"PainScoreQuantMissing\",\n",
      "    \"driver.time_series.interpolation_interval\": 10,\n",
      "    \"pain_data.data_file_path\": os.path.join(\"E:\\\\\", \"parisa2_pain_encrypted_short.txt\"),\n",
      "    \"pain_data.output_directory\": os.path.join(\"E:\\\\\", \"tempos\", \"figures\"),\n",
      "    \"pain_data.tmp_directory\": os.path.join(\"E:\\\\\", \"tmp\"),\n",
      "    \"pain_data.start_recording_time_minutes_cutoff\": 120,\n",
      "    \"pain_data.figures.start_times_lte_cutoff\": \"pain_score_start_times_lte_2hours.pdf\",\n",
      "    \"pain_data.figures.start_times\": \"pain_score_start_times.pdf\",\n",
      "    \"pain_data.figures.raw_scores_histogram\": \"raw_scores_histogram.pdf\",\n",
      "    \"pain_data.figures.interpolated_scores_histogram\": \"interpolated_scores_histogram.pdf\",\n",
      "}\n",
      "\n",
      "def get_opt_val(option, default = \"\"):\n",
      "    return opts.get(option, default)"
     ],
     "language": "python",
     "metadata": {},
     "outputs": [],
     "prompt_number": 52
    },
    {
     "cell_type": "code",
     "collapsed": false,
     "input": [
      "vals = [\n",
      "[1, 4, 5, 1],\n",
      "[1, 75, 9, 2],\n",
      "[1, 100, 7, 3],\n",
      "[2, 8, 1, 1],\n",
      "[2, 19, 6, 2],\n",
      "[2, 50, 3, 3],\n",
      "]\n",
      "foo = pd.DataFrame.from_records(vals, columns = [\"PatientID\", \"NRSTimeFromEndSurgery_mins\", \"PainScoreQuantMissing\", \"Col\"])\n",
      "icon = IntelligentIcons()\n",
      "print(icon.interpolate_timeseries(foo).reset_index())"
     ],
     "language": "python",
     "metadata": {},
     "outputs": [
      {
       "output_type": "stream",
       "stream": "stdout",
       "text": [
        "    PatientID  NRSTimeFromEndSurgery_mins  PainScoreQuantMissing  Col\n",
        "0           1                           4               5.000000    1\n",
        "1           1                          14               5.563380    1\n",
        "2           1                          24               6.126761    1\n",
        "3           1                          34               6.690141    1\n",
        "4           1                          44               7.253521    1\n",
        "5           1                          54               7.816901    1\n",
        "6           1                          64               8.380282    1\n",
        "7           1                          74               8.943662    1\n",
        "8           1                          84               8.280000    2\n",
        "9           1                          94               7.480000    2\n",
        "10          2                           8               1.000000    1\n",
        "11          2                          18               5.545455    1\n",
        "12          2                          28               5.129032    2\n",
        "13          2                          38               4.161290    2\n",
        "14          2                          48               3.193548    2\n"
       ]
      }
     ],
     "prompt_number": 49
    },
    {
     "cell_type": "code",
     "collapsed": false,
     "input": [
      "class IntelligentIcons:\n",
      "    \n",
      "    #The following function accepts a pandas dataframe like the following:\n",
      "    # Patient ID | Record Time | Value | Other Column(s)\n",
      "    # 1          | 1           | 4     | Val 1\n",
      "    # 1          | 75          | 9     | Val 1\n",
      "    # 1          | 100         | 7     | Val 1\n",
      "    # 2          | 8           | 1     | Val 2\n",
      "    # 2          | 19          | 6     | Val 2\n",
      "    # 2          | 50          | 3     | Val 2\n",
      "    #And turns it into the following:\n",
      "    # Patient ID | Record Time | Value | Other Column(s)\n",
      "    # 1          | 4           | 5.00  | Val 1\n",
      "    # 1          | 14          | 5.56  | Val 1\n",
      "    # 1          | 24          | 6.12  | Val 1\n",
      "    # ...\n",
      "    # 1          | 84          | 8.28  | Val 1\n",
      "    # 1          | 94          | 7.48  | Val 1\n",
      "    # 2          | 8           | 1.00  | Val 2\n",
      "    # 2          | 18          | 5.55  | Val 2\n",
      "    # 2          | 28          | 5.13  | Val 2\n",
      "    # 2          | 38          | 4.16  | Val 2\n",
      "    # 2          | 48          | 3.19  | Val 2\n",
      "    def interpolate_timeseries(self, ts_df):\n",
      "        def interpolate_owner_ts(dataframe_multiindexed):\n",
      "            interval_minutes = get_opt_val(\"driver.time_series.interpolation_interval\", 10)\n",
      "            dataframe_multiindexed.index = dataframe_multiindexed.index.droplevel(0)\n",
      "\n",
      "            if dataframe_multiindexed[ts_y_label].count() <= 1:\n",
      "                #interpolation requires at least two points\n",
      "                return dataframe_multiindexed\n",
      "\n",
      "            dataframe_multiindexed.dropna(subset=[ts_y_label], inplace=True)\n",
      "            dataframe_unindexed = dataframe_multiindexed.reset_index()\n",
      "            dataframe_time_indexed = dataframe_unindexed.set_index(ts_x_label).sort_index()\n",
      "\n",
      "            first_time_value = dataframe_unindexed[ts_x_label].iloc[0]\n",
      "            last_time_value = dataframe_unindexed[ts_x_label].iloc[-1]\n",
      "            constant_time_interval_points = np.arange(first_time_value, last_time_value, interval_minutes)\n",
      "            #expand the original data structure by forward-filling feature values through the interpolated values\n",
      "            total_indexed_by_time = dataframe_unindexed.set_index(ts_x_label)\n",
      "            total_indexed_by_time_expanded = total_indexed_by_time.reindex(constant_time_interval_points, method='ffill')\n",
      "            #use linear interpolation from scipy\n",
      "            interpolation_func = interp1d(x=dataframe_unindexed[ts_x_label], \n",
      "                                          y=dataframe_unindexed[ts_y_label])\n",
      "            interpolated_vals = interpolation_func(constant_time_interval_points)\n",
      "            total_indexed_by_time_expanded[ts_y_label] = [interpolated_val if interpolated_val > 0 else 0 for interpolated_val in interpolated_vals]\n",
      "            return total_indexed_by_time_expanded\n",
      "\n",
      "        ts_owner_label = get_opt_val(\"driver.time_series.owner_id_label\")\n",
      "        ts_x_label = get_opt_val(\"driver.time_series.x_label\")\n",
      "        ts_y_label = get_opt_val(\"driver.time_series.y_label\")\n",
      "        ts_indexed = ts_df.set_index([ts_owner_label, ts_x_label])\n",
      "        grouped_by_owner = ts_indexed.groupby(level=0)\n",
      "        ts_interpolated = grouped_by_owner.apply(interpolate_owner_ts)\n",
      "        ts_interpolated.dropna(subset=[\"PainScoreQuantMissing\"], inplace=True)\n",
      "        \n",
      "        #dont include owners with null time series after interpolation\n",
      "        owner_ts_lengths = ts_interpolated[ts_y_label].groupby(level=0).count()\n",
      "        blank_series_owners = owner_ts_lengths[owner_ts_lengths == 0]\n",
      "        ts_interpolated.drop(blank_series_owners.index, level=0, inplace=True)\n",
      "        return ts_interpolated"
     ],
     "language": "python",
     "metadata": {},
     "outputs": [],
     "prompt_number": 51
    },
    {
     "cell_type": "code",
     "collapsed": false,
     "input": [
      "\n",
      "class PainDataUtils:\n",
      "    def __init__(self):\n",
      "        self.output_directory = get_opt_val(\"pain_data.output_directory\")\n",
      "        self.tmp_directory = get_opt_val(\"pain_data.tmp_directory\")\n",
      "        self.pain_data = pd.read_csv(get_opt_val(\"pain_data.data_file_path\"), true_values=[\"Yes\", \"True\"], false_values=[\"No\", \"False\"])\n",
      "        pain_data_columns = self.pain_data.columns.values\n",
      "        #rename the first column (\"id\") to something more meaningful\n",
      "        pain_data_columns[0] = \"PatientID\"\n",
      "        self.pain_data.columns = pain_data_columns\n",
      "        self.pain_data[\"NRSTimeFromEndSurgery_mins\"] = self.pain_data.NRSTimeFromEndSurgery.apply(self.get_mins_from_hhmm)\n",
      "        self.intelligent_icon_engine = IntelligentIcons()\n",
      "        \n",
      "    @staticmethod\n",
      "    def get_mins_from_hhmm(hhmm):\n",
      "        parts = hhmm.split(':')\n",
      "        return int(parts[0]) * 60 + int(parts[1])\n",
      "\n",
      "    def run(self):\n",
      "        print(\"Executing routines associated with the pain score data set\")\n",
      "        self.generate_start_time_figures()\n",
      "        self.pain_data = self.generate_cutoff_start_time_figures()\n",
      "        self.normality_check()\n",
      "        self.pain_data_interpolated = self.intelligent_icon_engine.interpolate_timeseries(self.pain_data)\n",
      "        self.pain_data_interpolated_groupby_patient = self.pain_data_interpolated.PainScoreQuantMissing.groupby(level = \"PatientID\")\n",
      "        print(\"Done\")\n",
      "\n",
      "    def normality_check(self):\n",
      "        print(\"Lilliefors test for normality\")\n",
      "        #all scores\n",
      "        normality_test = lilliefors(self.pain_data.PainScoreQuantMissing.dropna().values)\n",
      "        normality_test_pval = normality_test[1]\n",
      "        print(\"Null hypothesis is that all pain scores follow a Gaussian distribution\")\n",
      "        print(\"P-value for rejecting the null hypothesis = \" + str(normality_test_pval))\n",
      "        #only scores greater than 0\n",
      "        normality_test = lilliefors(self.pain_data[self.pain_data.PainScoreQuantMissing > 0].PainScoreQuantMissing.dropna().values)\n",
      "        normality_test_pval = normality_test[1]\n",
      "        print(\"Null hypothesis is that pain scores greater than 0 follow a Gaussian distribution\")\n",
      "        print(\"P-value for rejecting the null hypothesis = \" + str(normality_test_pval))\n",
      "    \n",
      "    #Generate histograms of patient score record start times (normal and log scale)\n",
      "    def generate_start_time_figures(self):            \n",
      "        figure_path = os.path.join(self.output_directory, get_opt_val(\"pain_data.figures.start_times\"))\n",
      "        print(\"Generating histograms for record start times and saving to \" + figure_path)\n",
      "        recording_time_grouped_by_patient = self.pain_data[[\"PatientID\", \"NRSTimeFromEndSurgery_mins\"]].groupby(\"PatientID\")\n",
      "        recording_start_minutes = recording_time_grouped_by_patient.min()\n",
      "\n",
      "        fig1 = \"fig1.pdf\"\n",
      "        fig2 = \"fig2.pdf\"\n",
      "\n",
      "        plt.figure(figsize=[8,4])\n",
      "        plt.title(\"Pain score recording start times\", fontsize=14).set_y(1.05) \n",
      "        plt.ylabel(\"Occurrences\", fontsize=14)\n",
      "        plt.xlabel(\"Recording Start Time (minutes)\", fontsize=14)\n",
      "        plt.hist(recording_start_minutes.values, bins=20, color=\"0.5\")\n",
      "        plt.savefig(os.path.join(self.tmp_directory, fig1), bbox_inches=\"tight\")\n",
      "        plt.close()\n",
      "\n",
      "        plt.figure(figsize=[8,4])\n",
      "        plt.title(\"Pain score recording start times, log scale\", fontsize=14).set_y(1.05) \n",
      "        plt.ylabel(\"Occurrences\", fontsize=14)\n",
      "        plt.xlabel(\"Recording Start Time (minutes)\", fontsize=14)\n",
      "        plt.hist(recording_start_minutes.values, bins=20, log=True, color=\"0.5\")\n",
      "        plt.savefig(os.path.join(self.tmp_directory, fig2), bbox_inches=\"tight\")\n",
      "        plt.close()\n",
      "\n",
      "        #save the figures in panel format\n",
      "        f = open(os.path.join(self.tmp_directory, \"tmp.tex\"), 'w')\n",
      "        f.write(r\"\"\"\n",
      "            \\documentclass[%\n",
      "            ,float=false % this is the new default and can be left away.\n",
      "            ,preview=true\n",
      "            ,class=scrartcl\n",
      "            ,fontsize=20pt\n",
      "            ]{standalone}\n",
      "            \\usepackage[active,tightpage]{preview}\n",
      "            \\usepackage{varwidth}\n",
      "            \\usepackage{graphicx}\n",
      "            \\usepackage[justification=centering]{caption}\n",
      "            \\usepackage{subcaption}\n",
      "            \\usepackage[caption=false,font=footnotesize]{subfig}\n",
      "            \\renewcommand{\\thesubfigure}{\\Alph{subfigure}}\n",
      "            \\begin{document}\n",
      "            \\begin{preview}\n",
      "            \\begin{figure}[h]\n",
      "                \\begin{subfigure}{0.5\\textwidth}\n",
      "                        \\includegraphics[width=\\textwidth]{\"\"\" + fig1 + r\"\"\"}\n",
      "                        \\caption{Normal scale}\n",
      "                \\end{subfigure}\\begin{subfigure}{0.5\\textwidth}\n",
      "                        \\includegraphics[width=\\textwidth]{\"\"\" + fig2 + r\"\"\"}\n",
      "                        \\caption{Log scale}\n",
      "                \\end{subfigure}\n",
      "            \\end{figure}\n",
      "            \\end{preview}\n",
      "            \\end{document}\n",
      "        \"\"\")\n",
      "        f.close()\n",
      "        subprocess.call([\"pdflatex\", \n",
      "                            \"-halt-on-error\", \n",
      "                            \"-output-directory\", \n",
      "                            self.tmp_directory, \n",
      "                            os.path.join(self.tmp_directory, \"tmp.tex\")])\n",
      "        shutil.move(os.path.join(self.tmp_directory, \"tmp.pdf\"), figure_path)\n",
      "\n",
      "    #Generate histograms of patient score record start times that are \n",
      "    #less than pain_data.start_recording_time_minutes_cutoff (normal and log scale)\n",
      "    def generate_cutoff_start_time_figures(self):\n",
      "        start_recording_time_minutes_cutoff = get_opt_val(\"pain_data.start_recording_time_minutes_cutoff\", 120)\n",
      "        figure_path = os.path.join(self.output_directory, get_opt_val(\"pain_data.figures.start_times_lte_cutoff\"))\n",
      "        print(\"Generating histograms for record start times which are less than the cutoff, %s, and saving to %s\" %\n",
      "              (start_recording_time_minutes_cutoff, figure_path))\n",
      "        recording_time_grouped_by_patient = self.pain_data[[\"PatientID\", \"NRSTimeFromEndSurgery_mins\"]].groupby(\"PatientID\")\n",
      "        recording_start_minutes = recording_time_grouped_by_patient.min()\n",
      "        recording_start_cutoff_patientid_minutes = recording_start_minutes[recording_start_minutes <= start_recording_time_minutes_cutoff].dropna()\n",
      "\n",
      "        fig1 = \"fig1.pdf\"\n",
      "        fig2 = \"fig2.pdf\"\n",
      "\n",
      "        plt.figure(figsize=[8,4])\n",
      "        plt.title(\"Pain score recording start times less than \" + str(start_recording_time_minutes_cutoff) + \"\\nminutes postoperation\", fontsize=14).set_y(1.05) \n",
      "        plt.ylabel(\"Occurrences\", fontsize=14)\n",
      "        plt.xlabel(\"Recording Start Time (minutes)\", fontsize=14)\n",
      "        plt.hist(recording_start_cutoff_patientid_minutes.values, color=\"0.5\")\n",
      "        plt.savefig(os.path.join(self.tmp_directory, fig1), bbox_inches=\"tight\")\n",
      "        plt.close()\n",
      "        \n",
      "        plt.figure(figsize=[8,4])\n",
      "        plt.title(\"Pain score recording start times less than \" + str(start_recording_time_minutes_cutoff) + \"\\nminutes postoperation, log scale\", fontsize=14).set_y(1.05) \n",
      "        plt.ylabel(\"Occurrences\", fontsize=14)\n",
      "        plt.xlabel(\"Recording Start Time (minutes)\", fontsize=14)\n",
      "        plt.hist(recording_start_cutoff_patientid_minutes.values, log=True, color=\"0.5\")\n",
      "        plt.savefig(os.path.join(self.tmp_directory, fig2), bbox_inches=\"tight\")\n",
      "        plt.close()\n",
      "        \n",
      "        cutoff_patientids = recording_start_cutoff_patientid_minutes.index\n",
      "        start_cutoff_pain_data = self.pain_data.set_index(\"PatientID\").ix[cutoff_patientids].reset_index()\n",
      "\n",
      "        #save the figures in panel format\n",
      "\n",
      "        f = open(os.path.join(self.tmp_directory, \"tmp.tex\"), 'w')\n",
      "        f.write(r\"\"\"\n",
      "            \\documentclass[%\n",
      "            ,float=false % this is the new default and can be left away.\n",
      "            ,preview=true\n",
      "            ,class=scrartcl\n",
      "            ,fontsize=20pt\n",
      "            ]{standalone}\n",
      "            \\usepackage[active,tightpage]{preview}\n",
      "            \\usepackage{varwidth}\n",
      "            \\usepackage{graphicx}\n",
      "            \\usepackage[justification=centering]{caption}\n",
      "            \\usepackage{subcaption}\n",
      "            \\usepackage[caption=false,font=footnotesize]{subfig}\n",
      "            \\renewcommand{\\thesubfigure}{\\Alph{subfigure}}\n",
      "            \\begin{document}\n",
      "            \\begin{preview}\n",
      "            \\begin{figure}[h]\n",
      "                \\begin{subfigure}{0.5\\textwidth}\n",
      "                        \\includegraphics[width=\\textwidth]{\"\"\" + fig1 + r\"\"\"}\n",
      "                        \\caption{Normal scale}\n",
      "                \\end{subfigure}\\begin{subfigure}{0.5\\textwidth}\n",
      "                        \\includegraphics[width=\\textwidth]{\"\"\" + fig2 + r\"\"\"}\n",
      "                        \\caption{Log scale}\n",
      "                \\end{subfigure}\n",
      "            \\end{figure}\n",
      "            \\end{preview}\n",
      "            \\end{document}\n",
      "        \"\"\")\n",
      "        f.close()\n",
      "        subprocess.call([\"pdflatex\", \n",
      "                            \"-halt-on-error\", \n",
      "                            \"-output-directory\", \n",
      "                            self.tmp_directory, \n",
      "                            os.path.join(self.tmp_directory, \"tmp.tex\")])\n",
      "        shutil.move(os.path.join(self.tmp_directory, \"tmp.pdf\"), figure_path)\n",
      "        return start_cutoff_pain_data\n",
      "    \n",
      "    def pain_score_histogram(self):\n",
      "        figure_path = os.path.join(self.output_directory, get_opt_val(\"pain_data.figures.raw_scores_histogram\"))\n",
      "        print(\"Generating pain score histogram and saving to \" + figure_path)\n",
      "        fig = plt.figure(figsize=(7,4))\n",
      "        self.pain_data.reset_index().PainScoreQuantMissing.hist(bins=11, color=\"0.5\")\n",
      "        plt.xlabel(\"Reported pain score\")\n",
      "        plt.ylabel(\"Occurences\")\n",
      "        plt.title(\"Occurences of reported pain scores in data file\", y=1.03)\n",
      "        plt.gcf().subplots_adjust(bottom=0.15)\n",
      "        plt.savefig(figure_path)\n",
      "        plt.close()\n",
      "        \n",
      "    def gen_table1(self):\n",
      "        table1 = pd.DataFrame(columns=[\"Variable\", \"Level1\", \"Level2\", \"Value\", \"Average Pain Score\"]).set_index([\"Variable\", \"Level1\", \"Level2\"])\n",
      "\n",
      "        def comma(integer):\n",
      "            return \"${:,.2f}\".format(integer)\n",
      "\n",
      "        def pct(count, total):\n",
      "            return str(round(100 * float(count) / total, 1))\n",
      "\n",
      "        def truncflt(flt):\n",
      "            return \"%.2f\" % flt\n",
      "\n",
      "        total_patients = pain_data.PatientID.drop_duplicates().count()\n",
      "        print(\"Number of patients\", comma(total_patients))\n",
      "\n",
      "        total_nonsleep_pain_scores = pain_data.PainScoreQuantMissing.dropna().count()\n",
      "        print(\"Total nonsleep pain scores - \", comma(total_nonsleep_pain_scores))\n",
      "\n",
      "        patients_before_2_hours = start_cutoff_pain_data.PatientID.drop_duplicates()\n",
      "        print(\"Patients with scores before 2 hours - \", comma(patients_before_2_hours.count()))\n",
      "\n",
      "        pain_scores_for_patients_before_2_hours = start_cutoff_pain_data.PainScoreQuantMissing.dropna().count()\n",
      "        print(\"Scores for patients scores before 2 hours - \", comma(pain_scores_for_patients_before_2_hours))\n",
      "\n",
      "        interpolated_pain_scores = pain_interpolated.PainScoreQuantMissing.dropna().count()\n",
      "        print(\"Interpolated scores - \", comma(interpolated_pain_scores))\n",
      "\n",
      "\n",
      "        #-------- Age group -------------\n",
      "        key = \"Age_Group\"\n",
      "        variable = \"Age\"\n",
      "        patient_with_age = start_cutoff_pain_data[[\"PatientID\", \"Age\"]].drop_duplicates()\n",
      "        age_mean = patient_with_age.Age.mean().round(1)\n",
      "        age_stddev = patient_with_age.Age.std().round(1)\n",
      "\n",
      "        table1.loc[(variable, \"\", \"\"), \"Value\"] = str(age_mean) + \"+/-\" + str(age_stddev) + r\" (mean +/- SD)\"\n",
      "        table1.loc[(variable, \"\", \"\"), \"Average Pain Score\"] = \"\"\n",
      "\n",
      "        patients_with_key = start_cutoff_pain_data[[\"PatientID\", key]].drop_duplicates()\n",
      "        level_counts = patients_with_key.groupby(key).count()[\"PatientID\"]\n",
      "        for level, count in level_counts.to_dict().iteritems():\n",
      "            table1.loc[(variable, level, \"\"), \"Value\"] = comma(count) + \" (\" + pct(count, level_counts.sum()) + \"%)\"\n",
      "            patients_in_cluster = patients_with_key[patients_with_key[key] == level].PatientID.values\n",
      "            pain_avg = interpolated_by_patient.ix[patients_in_cluster].PainScoreQuantMissing.mean()\n",
      "            pain_sd = interpolated_by_patient.ix[patients_in_cluster].PainScoreQuantMissing.std()\n",
      "            table1.loc[(variable, level, \"\"), \"Average Pain Score\"] = truncflt(pain_avg) + \"+/-\" + truncflt(pain_sd)\n",
      "\n",
      "        #-------- Age group coclustered with opioid -------------\n",
      "        variable = \"Age co-clustered with Opioid\"\n",
      "        patients_with_key = start_cutoff_pain_data[[\"PatientID\", \"Age_Group\", \"Opioid\"]].drop_duplicates()\n",
      "        counts = patients_with_key.groupby([\"Age_Group\", \"Opioid\"]).count()[\"PatientID\"]\n",
      "        for levels, count in counts.to_dict().iteritems():\n",
      "            age_group = levels[0]\n",
      "            opioid = (\"Taking\" if levels[1] else \"Not taking\") + \" Opioid\"\n",
      "            table1.loc[(variable, age_group, opioid), \"Value\"] = comma(count) + \" (\" + pct(count, counts.sum()) + \"%)\"\n",
      "            patients_in_cluster = patients_with_key[(patients_with_key.Age_Group == age_group) & (patients_with_key.Opioid == levels[1])].PatientID.values\n",
      "            pain_avg = interpolated_by_patient.ix[patients_in_cluster].PainScoreQuantMissing.mean()\n",
      "            pain_sd = interpolated_by_patient.ix[patients_in_cluster].PainScoreQuantMissing.std()\n",
      "            table1.loc[(variable, age_group, opioid), \"Average Pain Score\"] = truncflt(pain_avg) + \"+/-\" + truncflt(pain_sd)\n",
      "\n",
      "        #-------- Gender -------------\n",
      "        variable = \"Gender\"\n",
      "        key = \"Gender\"\n",
      "        patients_with_key = start_cutoff_pain_data[[\"PatientID\", key]].drop_duplicates()\n",
      "        level_counts = patients_with_key.groupby(key).count()[\"PatientID\"]\n",
      "        for level, count in level_counts.to_dict().iteritems():\n",
      "            table1.loc[(variable, level, \"\"), \"Value\"] = comma(count) + \" (\" + pct(count, level_counts.sum()) + \"%)\"\n",
      "            patients_in_cluster = patients_with_key[patients_with_key[key] == level].PatientID.values\n",
      "            pain_avg = interpolated_by_patient.ix[patients_in_cluster].PainScoreQuantMissing.mean()\n",
      "            pain_sd = interpolated_by_patient.ix[patients_in_cluster].PainScoreQuantMissing.std()\n",
      "            table1.loc[(variable, level, \"\"), \"Average Pain Score\"] = truncflt(pain_avg) + \"+/-\" + truncflt(pain_sd)\n",
      "\n",
      "        #-------- Gender co-clustered with age group -------------\n",
      "        variable = \"Gender co-clustered with Age\"\n",
      "        patients_with_key = start_cutoff_pain_data[[\"PatientID\", \"Gender\", \"Age_Group\"]].drop_duplicates()\n",
      "        counts = patients_with_key.groupby([\"Gender\", \"Age_Group\"]).count()[\"PatientID\"]\n",
      "        for levels, count in counts.to_dict().iteritems():\n",
      "            gender = levels[0]\n",
      "            age_group = levels[1]\n",
      "            table1.loc[(variable, gender, age_group), \"Value\"] = comma(count) + \" (\" + pct(count, counts.sum()) + \"%)\"\n",
      "            patients_in_cluster = patients_with_key[(patients_with_key.Gender == gender) & (patients_with_key.Age_Group == age_group)].PatientID.values\n",
      "            pain_avg = interpolated_by_patient.ix[patients_in_cluster].PainScoreQuantMissing.mean()\n",
      "            pain_sd = interpolated_by_patient.ix[patients_in_cluster].PainScoreQuantMissing.std()\n",
      "            table1.loc[(variable, gender, age_group), \"Average Pain Score\"] = truncflt(pain_avg) + \"+/-\" + truncflt(pain_sd)\n",
      "\n",
      "        #-------- Gender co-clustered with SSRI -------------\n",
      "        variable = \"Gender co-clustered with SSRI\"\n",
      "        patients_with_key = start_cutoff_pain_data[[\"PatientID\", \"Gender\", \"SSRI\"]].drop_duplicates()\n",
      "        counts = patients_with_key.groupby([\"Gender\", \"SSRI\"]).count()[\"PatientID\"]\n",
      "        count = counts.ix[\"FEMALE\", True]\n",
      "        table1.loc[(variable, \"Female\", \"Taking SSRI\"), \"Value\"] = comma(count) + \" (\" + pct(count, counts.sum()) + \"%)\"\n",
      "        patients_in_cluster = patients_with_key[(patients_with_key.Gender == \"FEMALE\") & (patients_with_key.SSRI == True)].PatientID.values\n",
      "        pain_avg = interpolated_by_patient.ix[patients_in_cluster].PainScoreQuantMissing.mean()\n",
      "        pain_sd = interpolated_by_patient.ix[patients_in_cluster].PainScoreQuantMissing.std()\n",
      "        table1.loc[(variable, \"Female\", \"Taking SSRI\"), \"Average Pain Score\"] = truncflt(pain_avg) + \"+/-\" + truncflt(pain_sd)\n",
      "\n",
      "        count = counts.ix[\"MALE\", True]\n",
      "        table1.loc[(variable, \"Male\", \"Taking SSRI\"), \"Value\"] = comma(count) + \" (\" + pct(count, counts.sum()) + \"%)\"\n",
      "        patients_in_cluster = patients_with_key[(patients_with_key.Gender == \"MALE\") & (patients_with_key.SSRI == True)].PatientID.values\n",
      "        pain_avg = interpolated_by_patient.ix[patients_in_cluster].PainScoreQuantMissing.mean()\n",
      "        pain_sd = interpolated_by_patient.ix[patients_in_cluster].PainScoreQuantMissing.std()\n",
      "        table1.loc[(variable, \"Male\", \"Taking SSRI\"), \"Average Pain Score\"] = truncflt(pain_avg) + \"+/-\" + truncflt(pain_sd)\n",
      "\n",
      "        count = counts.ix[\"FEMALE\", False]\n",
      "        table1.loc[(variable, \"Female\", \"Not taking SSRI\"), \"Value\"] = comma(count) + \" (\" + pct(count, counts.sum()) + \"%)\"\n",
      "        patients_in_cluster = patients_with_key[(patients_with_key.Gender == \"FEMALE\") & (patients_with_key.SSRI == False)].PatientID.values\n",
      "        pain_avg = interpolated_by_patient.ix[patients_in_cluster].PainScoreQuantMissing.mean()\n",
      "        pain_sd = interpolated_by_patient.ix[patients_in_cluster].PainScoreQuantMissing.std()\n",
      "        table1.loc[(variable, \"Female\", \"Not taking SSRI\"), \"Average Pain Score\"] = truncflt(pain_avg) + \"+/-\" + truncflt(pain_sd)\n",
      "\n",
      "        count = counts.ix[\"MALE\", False]\n",
      "        table1.loc[(variable, \"Male\", \"Not taking SSRI\"), \"Value\"] = comma(count) + \" (\" + pct(count, counts.sum()) + \"%)\"\n",
      "        patients_in_cluster = patients_with_key[(patients_with_key.Gender == \"MALE\") & (patients_with_key.SSRI == False)].PatientID.values\n",
      "        pain_avg = interpolated_by_patient.ix[patients_in_cluster].PainScoreQuantMissing.mean()\n",
      "        pain_sd = interpolated_by_patient.ix[patients_in_cluster].PainScoreQuantMissing.std()\n",
      "        table1.loc[(variable, \"Male\", \"Not taking SSRI\"), \"Average Pain Score\"] = truncflt(pain_avg) + \"+/-\" + truncflt(pain_sd)\n",
      "\n",
      "\n",
      "        #-------- Gender co-clustered with Opioid -------------\n",
      "        variable = \"Gender co-clustered with Opioid\"\n",
      "        patients_with_key = start_cutoff_pain_data[[\"PatientID\", \"Gender\", \"Opioid\"]].drop_duplicates()\n",
      "        counts = patients_with_key.groupby([\"Gender\", \"Opioid\"]).count()[\"PatientID\"]\n",
      "        count = counts.ix[\"FEMALE\", True]\n",
      "        table1.loc[(variable, \"Female\", \"Taking Opioid\"), \"Value\"] = comma(count) + \" (\" + pct(count, counts.sum()) + \"%)\"\n",
      "        patients_in_cluster = patients_with_key[(patients_with_key.Gender == \"FEMALE\") & (patients_with_key.Opioid == True)].PatientID.values\n",
      "        pain_avg = interpolated_by_patient.ix[patients_in_cluster].PainScoreQuantMissing.mean()\n",
      "        pain_sd = interpolated_by_patient.ix[patients_in_cluster].PainScoreQuantMissing.std()\n",
      "        table1.loc[(variable, \"Female\", \"Taking Opioid\"), \"Average Pain Score\"] = truncflt(pain_avg) + \"+/-\" + truncflt(pain_sd)\n",
      "\n",
      "        count = counts.ix[\"MALE\", True]\n",
      "        table1.loc[(variable, \"Male\", \"Taking Opioid\"), \"Value\"] = comma(count) + \" (\" + pct(count, counts.sum()) + \"%)\"\n",
      "        patients_in_cluster = patients_with_key[(patients_with_key.Gender == \"MALE\") & (patients_with_key.Opioid == True)].PatientID.values\n",
      "        pain_avg = interpolated_by_patient.ix[patients_in_cluster].PainScoreQuantMissing.mean()\n",
      "        pain_sd = interpolated_by_patient.ix[patients_in_cluster].PainScoreQuantMissing.std()\n",
      "        table1.loc[(variable, \"Male\", \"Taking Opioid\"), \"Average Pain Score\"] = truncflt(pain_avg) + \"+/-\" + truncflt(pain_sd)\n",
      "\n",
      "        count = counts.ix[\"FEMALE\", False]\n",
      "        table1.loc[(variable, \"Female\", \"Not taking Opioid\"), \"Value\"] = comma(count) + \" (\" + pct(count, counts.sum()) + \"%)\"\n",
      "        patients_in_cluster = patients_with_key[(patients_with_key.Gender == \"FEMALE\") & (patients_with_key.Opioid == False)].PatientID.values\n",
      "        pain_avg = interpolated_by_patient.ix[patients_in_cluster].PainScoreQuantMissing.mean()\n",
      "        pain_sd = interpolated_by_patient.ix[patients_in_cluster].PainScoreQuantMissing.std()\n",
      "        table1.loc[(variable, \"Female\", \"Not taking Opioid\"), \"Average Pain Score\"] = truncflt(pain_avg) + \"+/-\" + truncflt(pain_sd)\n",
      "\n",
      "        count = counts.ix[\"MALE\", False]\n",
      "        table1.loc[(variable, \"Male\", \"Not taking Opioid\"), \"Value\"] = comma(count) + \" (\" + pct(count, counts.sum()) + \"%)\"\n",
      "        patients_in_cluster = patients_with_key[(patients_with_key.Gender == \"MALE\") & (patients_with_key.Opioid == False)].PatientID.values\n",
      "        pain_avg = interpolated_by_patient.ix[patients_in_cluster].PainScoreQuantMissing.mean()\n",
      "        pain_sd = interpolated_by_patient.ix[patients_in_cluster].PainScoreQuantMissing.std()\n",
      "        table1.loc[(variable, \"Male\", \"Not taking Opioid\"), \"Average Pain Score\"] = truncflt(pain_avg) + \"+/-\" + truncflt(pain_sd)\n",
      "\n",
      "        #-------- Opioid -------------\n",
      "        variable = \"Opioid\"\n",
      "        patients_with_key = start_cutoff_pain_data[[\"PatientID\", \"Opioid\"]].drop_duplicates()\n",
      "        counts = patients_with_key.groupby([\"Opioid\"]).count()[\"PatientID\"]\n",
      "        count = counts.ix[True]\n",
      "        table1.loc[(variable, \"Taking Opioid\", \"\"), \"Value\"] = comma(count) + \" (\" + pct(count, counts.sum()) + \"%)\"\n",
      "        patients_in_cluster = patients_with_key[patients_with_key.Opioid == True].PatientID.values\n",
      "        pain_avg = interpolated_by_patient.ix[patients_in_cluster].PainScoreQuantMissing.mean()\n",
      "        pain_sd = interpolated_by_patient.ix[patients_in_cluster].PainScoreQuantMissing.std()\n",
      "        table1.loc[(variable, \"Taking Opioid\", \"\"), \"Average Pain Score\"] = truncflt(pain_avg) + \"+/-\" + truncflt(pain_sd)\n",
      "\n",
      "        count = counts.ix[False]\n",
      "        table1.loc[(variable, \"Not taking Opioid\", \"\"), \"Value\"] = comma(count) + \" (\" + pct(count, counts.sum()) + \"%)\"\n",
      "        patients_in_cluster = patients_with_key[patients_with_key.Opioid == False].PatientID.values\n",
      "        pain_avg = interpolated_by_patient.ix[patients_in_cluster].PainScoreQuantMissing.mean()\n",
      "        pain_sd = interpolated_by_patient.ix[patients_in_cluster].PainScoreQuantMissing.std()\n",
      "        table1.loc[(variable, \"Not taking Opioid\", \"\"), \"Average Pain Score\"] = truncflt(pain_avg) + \"+/-\" + truncflt(pain_sd)\n",
      "\n",
      "        #-------- surgery type -------------\n",
      "        variable = \"CPT anatomic groupings\"\n",
      "        key = \"PrimaryCPTCodeCategory2\"\n",
      "        patients_with_key = start_cutoff_pain_data[[\"PatientID\", key]].drop_duplicates()\n",
      "        level_counts = patients_with_key.groupby(key).count()[\"PatientID\"]\n",
      "        for level, count in level_counts.to_dict().iteritems():\n",
      "            table1.loc[(variable, level, \"\"), \"Value\"] = comma(count) + \" (\" + pct(count, level_counts.sum()) + \"%)\"\n",
      "            patients_in_cluster = patients_with_key[patients_with_key[key] == level].PatientID.values\n",
      "            pain_avg = interpolated_by_patient.ix[patients_in_cluster].PainScoreQuantMissing.mean()\n",
      "            pain_sd = interpolated_by_patient.ix[patients_in_cluster].PainScoreQuantMissing.std()\n",
      "            table1.loc[(variable, level, \"\"), \"Average Pain Score\"] = truncflt(pain_avg) + \"+/-\" + truncflt(pain_sd)\n",
      "\n",
      "        #variable = \"Time of observation\"\n",
      "        #t1(variable)     \n",
      "        #patient_max_recording_days = start_cutoff_pain_data[[\"PatientID\", \"NRSTimeFromEndSurgery_mins\"]]\\\n",
      "        #                            .groupby(\"PatientID\")\\\n",
      "        #                            .max() // (60*24) \n",
      "        #for day in range(0, 5):\n",
      "        #    count = patient_max_recording_days[patient_max_recording_days >= day].count()\n",
      "        #    t1(variable, \"POD\" + str(day + 1), comma(count) + \" (\" + pct(count) + \"%)\")\n",
      "\n",
      "        #-------- comobidities -------------\n",
      "        variable = \"Total number of ICD9 coded comorbidities\"\n",
      "        key = \"ICD9_Comorbidity_Count_Group\"\n",
      "        patients_with_key = start_cutoff_pain_data[[\"PatientID\", key]].drop_duplicates()\n",
      "        level_counts = patients_with_key.groupby(key).count()[\"PatientID\"]\n",
      "        for level, count in level_counts.to_dict().iteritems():\n",
      "            table1.loc[(variable, level, \"\"), \"Value\"] = comma(count) + \" (\" + pct(count, level_counts.sum()) + \"%)\"\n",
      "            patients_in_cluster = patients_with_key[patients_with_key[key] == level].PatientID.values\n",
      "            pain_avg = interpolated_by_patient.ix[patients_in_cluster].PainScoreQuantMissing.mean()\n",
      "            pain_sd = interpolated_by_patient.ix[patients_in_cluster].PainScoreQuantMissing.std()\n",
      "            table1.loc[(variable, level, \"\"), \"Average Pain Score\"] = truncflt(pain_avg) + \"+/-\" + truncflt(pain_sd)\n",
      "\n",
      "        #-------- Procedure count -------------\n",
      "        variable = \"Total number of CPT coded procedures\"\n",
      "        key = \"Total_CPT_Count_Group\"\n",
      "        patients_with_key = start_cutoff_pain_data[[\"PatientID\", key]].drop_duplicates()\n",
      "        level_counts = patients_with_key.groupby(key).count()[\"PatientID\"]\n",
      "        for level, count in level_counts.to_dict().iteritems():\n",
      "            table1.loc[(variable, level, \"\"), \"Value\"] = comma(count) + \" (\" + pct(count, level_counts.sum()) + \"%)\"\n",
      "            patients_in_cluster = patients_with_key[patients_with_key[key] == level].PatientID.values\n",
      "            pain_avg = interpolated_by_patient.ix[patients_in_cluster].PainScoreQuantMissing.mean()\n",
      "            pain_sd = interpolated_by_patient.ix[patients_in_cluster].PainScoreQuantMissing.std()\n",
      "            table1.loc[(variable, level, \"\"), \"Average Pain Score\"] = truncflt(pain_avg) + \"+/-\" + truncflt(pain_sd)\n",
      "\n",
      "        table1_formatted = table1.reset_index()\n",
      "        table1"
     ],
     "language": "python",
     "metadata": {},
     "outputs": [],
     "prompt_number": 54
    },
    {
     "cell_type": "code",
     "collapsed": false,
     "input": [
      "import matplotlib as m\n",
      "import matplotlib.figure"
     ],
     "language": "python",
     "metadata": {},
     "outputs": [],
     "prompt_number": 27
    },
    {
     "cell_type": "code",
     "collapsed": false,
     "input": [
      "from pylab import plt"
     ],
     "language": "python",
     "metadata": {},
     "outputs": [],
     "prompt_number": 13
    },
    {
     "cell_type": "code",
     "collapsed": false,
     "input": [
      "plt.figure()"
     ],
     "language": "python",
     "metadata": {},
     "outputs": [
      {
       "metadata": {},
       "output_type": "pyout",
       "prompt_number": 14,
       "text": [
        "<matplotlib.figure.Figure at 0x48eb530>"
       ]
      }
     ],
     "prompt_number": 14
    },
    {
     "cell_type": "code",
     "collapsed": false,
     "input": [
      "pylab."
     ],
     "language": "python",
     "metadata": {},
     "outputs": []
    }
   ],
   "metadata": {}
  }
 ]
}